{
 "cells": [
  {
   "cell_type": "code",
   "execution_count": null,
   "metadata": {},
   "outputs": [],
   "source": [
    "####################### 1. data preparation #######################\n",
    "\n",
    "#----------------------------------变量赋值----------------------------------\n",
    "# Age (年龄)：整数\n",
    "# Gynecological examination (妇科检查临床诊断是否异常)：\"Missing\"=0,\"正常\"=1,\"异常\"=2\n",
    "# Positive for any of 14 hrHPV genotypes (有14种高危HPV阳性)：'阴性'=0,'阳性'=1\n",
    "# Positive for HPV16 (HPV16)：'阴性'=0,'阳性'=1\n",
    "# Positive for HPV18 (HPV18)：'阴性'=0,'阳性'=1\n",
    "# Positive for HPV39 (HPV39)：'阴性'=0,'阳性'=1\n",
    "# Positive for HPV52 (HPV52)：'阴性'=0,'阳性'=1\n",
    "# Number of genotypes with HPV infection (HPV亚型感染数量)：整数\n",
    "# Cervical cytology (FTCT结果)：\n",
    "# 'HPV检查阴性故不必继续检查'=0,'NILM'=0,'ASC-US'=1,\n",
    "# 'LSIL'=2,'AGC'=3,'这部分人没做TCT'=4,'ASC-H'=5,'AGC-FN'=6,'HSIL'=7,'宫颈癌'=8"
   ]
  },
  {
   "cell_type": "code",
   "execution_count": null,
   "metadata": {},
   "outputs": [],
   "source": [
    "####################### 2. import CIN2+ model #######################\n",
    "import pickle\n",
    "model_use= pickle.load(open('/cin2_model/xgb_cal.dat', \"rb\"))\n",
    "# get performance results\n",
    "probas_XG = model_use.predict_proba(input) #input为输入进来的数据，格式为pd dataframe，列名为上述英文变量名\n",
    "probas_XG = probas_XG[:, 1] #probas_XG为预测为阳性的概率值\n",
    "# 对于CIN2+的预测结果，probas_XG>=0.00423728814348578则预测为阳性，否则预测为阴性"
   ]
  },
  {
   "cell_type": "code",
   "execution_count": null,
   "metadata": {},
   "outputs": [],
   "source": [
    "####################### 3. import CIN3+ model #######################\n",
    "import pickle\n",
    "model_use= pickle.load(open('/cin3_model/xgb_cal.dat', \"rb\"))\n",
    "# get performance results\n",
    "probas_XG = model_use.predict_proba(input) #input为输入进来的数据，格式为pd dataframe，列名为上述英文变量名\n",
    "probas_XG = probas_XG[:, 1] #probas_XG为预测为阳性的概率值\n",
    "# 对于CIN3+的预测结果，probas_XG>=0.00613496918231248则预测为阳性，否则预测为阴性"
   ]
  }
 ],
 "metadata": {
  "language_info": {
   "name": "python"
  }
 },
 "nbformat": 4,
 "nbformat_minor": 2
}
